{
  "cells": [
    {
      "cell_type": "markdown",
      "metadata": {
        "id": "view-in-github",
        "colab_type": "text"
      },
      "source": [
        "<a href=\"https://colab.research.google.com/github/Mohaiminul2717/Mohaiminul2717/blob/main/Lab_Task_AI.ipynb\" target=\"_parent\"><img src=\"https://colab.research.google.com/assets/colab-badge.svg\" alt=\"Open In Colab\"/></a>"
      ]
    },
    {
      "cell_type": "code",
      "execution_count": null,
      "metadata": {
        "colab": {
          "base_uri": "https://localhost:8080/"
        },
        "id": "D--KknAP5Agr",
        "outputId": "fc70c763-d6e4-480d-ffef-99f5b1286530"
      },
      "outputs": [
        {
          "name": "stdout",
          "output_type": "stream",
          "text": [
            "Mounted at /content/gdrive\n"
          ]
        }
      ],
      "source": [
        "from google.colab import drive\n",
        "drive.mount('/content/gdrive')"
      ]
    },
    {
      "cell_type": "code",
      "execution_count": null,
      "metadata": {
        "colab": {
          "background_save": true,
          "base_uri": "https://localhost:8080/"
        },
        "id": "UQQ0Ybed6JVF",
        "outputId": "691d5bf6-5740-4a25-af6a-a1e6dec4f091"
      },
      "outputs": [
        {
          "name": "stdout",
          "output_type": "stream",
          "text": [
            "---------------------\n",
            "MENU\n",
            "---------------------\n",
            "1. Add semester\n",
            "2. Add courses\n",
            "3. View courses\n",
            "4. Select any courses you want unenroll from!\n",
            "5. Exit!\n",
            "---------------------\n"
          ]
        }
      ],
      "source": [
        "data = []\n",
        "choice = 'random'\n",
        "\n",
        "def line():\n",
        "  print('---------------------')\n",
        "\n",
        "def show_menu():\n",
        "  line()\n",
        "  print('MENU')\n",
        "  line()\n",
        "  print('1. Add semester')\n",
        "  print('2. Add courses')\n",
        "  print('3. View courses')\n",
        "  print('4. Select any courses you want unenroll from!')\n",
        "  print('5. Exit!')\n",
        "  line()\n",
        "  choice = input('Enter your choice: ')\n",
        "  return choice\n",
        "\n",
        "while choice != '5':\n",
        "  choice = show_menu()\n",
        "  if choice == '1':\n",
        "    item = input('Please add your own semester! ')\n",
        "    data.append(item)\n",
        "    print('Semester',item,'added.')\n",
        "  elif choice == '2':\n",
        "    item = input('Please add your semester courses! ')\n",
        "    data.append(item)\n",
        "    print('Courses',item,'added.')\n",
        "  elif choice == '3':\n",
        "    print('List of courses: ')\n",
        "    for item in data:\n",
        "      print(item)\n",
        "  elif choice == '4':\n",
        "    item = input('Which course you want to unenroll from? : ')\n",
        "    if item in data:\n",
        "      data.remove(item)\n",
        "      print('Unenrolled courses: ',item)\n",
        "    else:\n",
        "      print('Could not find courses!',item)\n",
        "  elif choice == '5':\n",
        "    print('Goodbye! Have a good day!')\n",
        "  else:\n",
        "    print('Please enter one of 1, 2, 3, 4, 5.')"
      ]
    }
  ],
  "metadata": {
    "colab": {
      "name": "Lab Task AI",
      "provenance": [],
      "authorship_tag": "ABX9TyOVOd2iBzEBpsh/e07NfTJc",
      "include_colab_link": true
    },
    "kernelspec": {
      "display_name": "Python 3",
      "name": "python3"
    },
    "language_info": {
      "name": "python"
    }
  },
  "nbformat": 4,
  "nbformat_minor": 0
}